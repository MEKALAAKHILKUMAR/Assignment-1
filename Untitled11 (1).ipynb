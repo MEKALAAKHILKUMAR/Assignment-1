{
 "cells": [
  {
   "cell_type": "markdown",
   "id": "baf51eca",
   "metadata": {},
   "source": [
    "# Write a Python program to get the Fibonacci series between 0 to 50\n"
   ]
  },
  {
   "cell_type": "code",
   "execution_count": 1,
   "id": "1b2fc6f4",
   "metadata": {},
   "outputs": [
    {
     "name": "stdout",
     "output_type": "stream",
     "text": [
      "enter starting range: 0\n",
      "enter ending range: 50\n",
      "0 1 1 2 3 5 8 13 21 34 "
     ]
    }
   ],
   "source": [
    "start = int(input(\"enter starting range: \"))\n",
    "end=int(input(\"enter ending range: \"))\n",
    "second_value = 1\n",
    "for i in range(end):\n",
    "    if(i <= 1):\n",
    "        next = i\n",
    "    else:\n",
    "        next = start + second_value\n",
    "        start = second_value\n",
    "        second_value = next\n",
    "    if(next<=end):\n",
    "        print(next,end=\" \")"
   ]
  },
  {
   "cell_type": "markdown",
   "id": "7d4048bb",
   "metadata": {},
   "source": [
    "# Send the Words To Mirror Dimension"
   ]
  },
  {
   "cell_type": "code",
   "execution_count": 2,
   "id": "4364655b",
   "metadata": {},
   "outputs": [
    {
     "name": "stdout",
     "output_type": "stream",
     "text": [
      "enter a word to be reversed: Edyoda\n",
      "adoydE"
     ]
    }
   ],
   "source": [
    "word=input(\"enter a word to be reversed: \")\n",
    "x=len(word)\n",
    "for  i in range(x-1,-1,-1):\n",
    "    print( word[i],end=\"\")"
   ]
  },
  {
   "cell_type": "markdown",
   "id": "4806075e",
   "metadata": {},
   "source": [
    "# Write a Python program to count the number of even and odd numbers from a series of numbers"
   ]
  },
  {
   "cell_type": "code",
   "execution_count": 3,
   "id": "b32a6bc9",
   "metadata": {},
   "outputs": [
    {
     "name": "stdout",
     "output_type": "stream",
     "text": [
      "enter sample numbers: (1, 2, 3, 4, 5, 6, 7, 8, 9) \n",
      "number of even numbers:  4\n",
      "number of even numbers:  5\n"
     ]
    }
   ],
   "source": [
    "x=eval(input(\"enter sample numbers: \"))\n",
    "even=0\n",
    "odd=0\n",
    "for i in range(1,len(x)+1):\n",
    "    if(i%2==0):\n",
    "        even=even+1\n",
    "    else:\n",
    "        odd=odd+1 \n",
    "print(\"number of even numbers: \",even)\n",
    "print(\"number of even numbers: \",odd)"
   ]
  },
  {
   "cell_type": "code",
   "execution_count": null,
   "id": "62b572cb",
   "metadata": {},
   "outputs": [],
   "source": []
  }
 ],
 "metadata": {
  "kernelspec": {
   "display_name": "Python 3 (ipykernel)",
   "language": "python",
   "name": "python3"
  },
  "language_info": {
   "codemirror_mode": {
    "name": "ipython",
    "version": 3
   },
   "file_extension": ".py",
   "mimetype": "text/x-python",
   "name": "python",
   "nbconvert_exporter": "python",
   "pygments_lexer": "ipython3",
   "version": "3.9.13"
  }
 },
 "nbformat": 4,
 "nbformat_minor": 5
}
